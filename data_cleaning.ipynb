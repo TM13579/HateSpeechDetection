{
 "cells": [
  {
   "cell_type": "code",
   "execution_count": 26,
   "id": "052acc44",
   "metadata": {},
   "outputs": [],
   "source": [
    "import pandas as pd\n",
    "import json\n",
    "import numpy as np\n",
    "import re\n",
    "from nltk.corpus import stopwords\n",
    "stop = stopwords.words(\"english\")"
   ]
  },
  {
   "cell_type": "markdown",
   "id": "bc5bdab1",
   "metadata": {},
   "source": [
    "<h3>Function: Cleaning the corpus</h3>"
   ]
  },
  {
   "cell_type": "code",
   "execution_count": 27,
   "id": "5d8277a2",
   "metadata": {},
   "outputs": [],
   "source": [
    "def clean_text(text):\n",
    "    \n",
    "    # To lower case\n",
    "    text = text.lower()\n",
    "    \n",
    "    # Remove new line characters\n",
    "    text = text.replace(\"\\t\",\" \")\n",
    "    text = text.replace(\"\\n\",\" \")\n",
    "    \n",
    "    # Remove punctuation\n",
    "    text = re.sub(r\"[^\\w\\s]\", \" \", text)\n",
    "    \n",
    "    # Remove digits\n",
    "    text = re.sub(r\"\\b\\d+\\b\",\" \", text)\n",
    "    \n",
    "    # Remove multiple white spaces\n",
    "    text = re.sub(r' +', ' ', text)\n",
    "    \n",
    "    # Remove stopwords\n",
    "    text = [x for x in text.split() if x not in stop]\n",
    "    \n",
    "    # Stemming (Did not use)\n",
    "    # text = [stemmer.stem(x) for x in text]\n",
    "    \n",
    "    return \" \".join(text)"
   ]
  },
  {
   "cell_type": "markdown",
   "id": "7c7b0818",
   "metadata": {},
   "source": [
    "<h3>Import the datasets</h3>"
   ]
  },
  {
   "cell_type": "code",
   "execution_count": 28,
   "id": "021d64bd",
   "metadata": {},
   "outputs": [],
   "source": [
    "comments = pd.read_csv(\"/Users/mazichang/Desktop/Cyberviolence/Project/HateSpeechDatasetBalanced.csv\")\n",
    "comments.columns = ['content', 'label']\n",
    "\n",
    "# Remove the rows with \"NaN\"\n",
    "# comments.dropna(inplace=True)"
   ]
  },
  {
   "cell_type": "markdown",
   "id": "6ed88732",
   "metadata": {},
   "source": [
    "<h3>Check the datasets</h3>"
   ]
  },
  {
   "cell_type": "code",
   "execution_count": 29,
   "id": "83dd3f5b",
   "metadata": {
    "scrolled": false
   },
   "outputs": [
    {
     "name": "stdout",
     "output_type": "stream",
     "text": [
      "(726119, 2)\n"
     ]
    },
    {
     "data": {
      "text/html": [
       "<div>\n",
       "<style scoped>\n",
       "    .dataframe tbody tr th:only-of-type {\n",
       "        vertical-align: middle;\n",
       "    }\n",
       "\n",
       "    .dataframe tbody tr th {\n",
       "        vertical-align: top;\n",
       "    }\n",
       "\n",
       "    .dataframe thead th {\n",
       "        text-align: right;\n",
       "    }\n",
       "</style>\n",
       "<table border=\"1\" class=\"dataframe\">\n",
       "  <thead>\n",
       "    <tr style=\"text-align: right;\">\n",
       "      <th></th>\n",
       "      <th>content</th>\n",
       "      <th>label</th>\n",
       "    </tr>\n",
       "  </thead>\n",
       "  <tbody>\n",
       "    <tr>\n",
       "      <th>0</th>\n",
       "      <td>denial of normal the con be asked to comment o...</td>\n",
       "      <td>1</td>\n",
       "    </tr>\n",
       "    <tr>\n",
       "      <th>1</th>\n",
       "      <td>just by being able to tweet this insufferable ...</td>\n",
       "      <td>1</td>\n",
       "    </tr>\n",
       "    <tr>\n",
       "      <th>2</th>\n",
       "      <td>that is retarded you too cute to be single tha...</td>\n",
       "      <td>1</td>\n",
       "    </tr>\n",
       "    <tr>\n",
       "      <th>3</th>\n",
       "      <td>thought of a real badass mongol style declarat...</td>\n",
       "      <td>1</td>\n",
       "    </tr>\n",
       "    <tr>\n",
       "      <th>4</th>\n",
       "      <td>afro american basho</td>\n",
       "      <td>1</td>\n",
       "    </tr>\n",
       "    <tr>\n",
       "      <th>...</th>\n",
       "      <td>...</td>\n",
       "      <td>...</td>\n",
       "    </tr>\n",
       "    <tr>\n",
       "      <th>726114</th>\n",
       "      <td>i mute this telecasting and played kanye west ...</td>\n",
       "      <td>1</td>\n",
       "    </tr>\n",
       "    <tr>\n",
       "      <th>726115</th>\n",
       "      <td>but hell yeah he s not a bachelor but looooooo...</td>\n",
       "      <td>1</td>\n",
       "    </tr>\n",
       "    <tr>\n",
       "      <th>726116</th>\n",
       "      <td>great video musician but s not my musician lol...</td>\n",
       "      <td>1</td>\n",
       "    </tr>\n",
       "    <tr>\n",
       "      <th>726117</th>\n",
       "      <td>not great pop video yeah he s not a pedophile ...</td>\n",
       "      <td>1</td>\n",
       "    </tr>\n",
       "    <tr>\n",
       "      <th>726118</th>\n",
       "      <td>great video yeah he s non a paedophile lolllll...</td>\n",
       "      <td>1</td>\n",
       "    </tr>\n",
       "  </tbody>\n",
       "</table>\n",
       "<p>726119 rows × 2 columns</p>\n",
       "</div>"
      ],
      "text/plain": [
       "                                                  content  label\n",
       "0       denial of normal the con be asked to comment o...      1\n",
       "1       just by being able to tweet this insufferable ...      1\n",
       "2       that is retarded you too cute to be single tha...      1\n",
       "3       thought of a real badass mongol style declarat...      1\n",
       "4                                     afro american basho      1\n",
       "...                                                   ...    ...\n",
       "726114  i mute this telecasting and played kanye west ...      1\n",
       "726115  but hell yeah he s not a bachelor but looooooo...      1\n",
       "726116  great video musician but s not my musician lol...      1\n",
       "726117  not great pop video yeah he s not a pedophile ...      1\n",
       "726118  great video yeah he s non a paedophile lolllll...      1\n",
       "\n",
       "[726119 rows x 2 columns]"
      ]
     },
     "execution_count": 29,
     "metadata": {},
     "output_type": "execute_result"
    }
   ],
   "source": [
    "print(comments.shape)\n",
    "comments.head()\n",
    "comments"
   ]
  },
  {
   "cell_type": "code",
   "execution_count": 30,
   "id": "13f92fa3",
   "metadata": {
    "scrolled": true
   },
   "outputs": [],
   "source": [
    "from nltk.tokenize import word_tokenize"
   ]
  },
  {
   "cell_type": "markdown",
   "id": "8353e509",
   "metadata": {},
   "source": [
    "<h3>Calculate the average number of words in each sentence</h3>"
   ]
  },
  {
   "cell_type": "code",
   "execution_count": 31,
   "id": "385e83ab",
   "metadata": {},
   "outputs": [
    {
     "name": "stdout",
     "output_type": "stream",
     "text": [
      "36.42867629135169\n"
     ]
    }
   ],
   "source": [
    "words = 0\n",
    "for index, row in comments.iterrows():\n",
    "    content = row['content']\n",
    "    words = words + len(word_tokenize(content))\n",
    "print(words/len(comments))"
   ]
  },
  {
   "cell_type": "markdown",
   "id": "7279cbcf",
   "metadata": {},
   "source": [
    "<h3>Eliminate outliers (comments with less than 5 or more than 40 words)</h3>"
   ]
  },
  {
   "cell_type": "code",
   "execution_count": 32,
   "id": "82ab8863",
   "metadata": {
    "scrolled": true
   },
   "outputs": [
    {
     "data": {
      "text/html": [
       "<div>\n",
       "<style scoped>\n",
       "    .dataframe tbody tr th:only-of-type {\n",
       "        vertical-align: middle;\n",
       "    }\n",
       "\n",
       "    .dataframe tbody tr th {\n",
       "        vertical-align: top;\n",
       "    }\n",
       "\n",
       "    .dataframe thead th {\n",
       "        text-align: right;\n",
       "    }\n",
       "</style>\n",
       "<table border=\"1\" class=\"dataframe\">\n",
       "  <thead>\n",
       "    <tr style=\"text-align: right;\">\n",
       "      <th></th>\n",
       "      <th>content</th>\n",
       "      <th>label</th>\n",
       "    </tr>\n",
       "  </thead>\n",
       "  <tbody>\n",
       "    <tr>\n",
       "      <th>0</th>\n",
       "      <td>denial of normal the con be asked to comment o...</td>\n",
       "      <td>1</td>\n",
       "    </tr>\n",
       "    <tr>\n",
       "      <th>1</th>\n",
       "      <td>just by being able to tweet this insufferable ...</td>\n",
       "      <td>1</td>\n",
       "    </tr>\n",
       "    <tr>\n",
       "      <th>2</th>\n",
       "      <td>that is retarded you too cute to be single tha...</td>\n",
       "      <td>1</td>\n",
       "    </tr>\n",
       "    <tr>\n",
       "      <th>3</th>\n",
       "      <td>thought of a real badass mongol style declarat...</td>\n",
       "      <td>1</td>\n",
       "    </tr>\n",
       "    <tr>\n",
       "      <th>7</th>\n",
       "      <td>the dead what a slut still warm when she tweet...</td>\n",
       "      <td>1</td>\n",
       "    </tr>\n",
       "    <tr>\n",
       "      <th>...</th>\n",
       "      <td>...</td>\n",
       "      <td>...</td>\n",
       "    </tr>\n",
       "    <tr>\n",
       "      <th>726094</th>\n",
       "      <td>oh haha real funny give maine chills ms twilig...</td>\n",
       "      <td>1</td>\n",
       "    </tr>\n",
       "    <tr>\n",
       "      <th>726115</th>\n",
       "      <td>but hell yeah he s not a bachelor but looooooo...</td>\n",
       "      <td>1</td>\n",
       "    </tr>\n",
       "    <tr>\n",
       "      <th>726116</th>\n",
       "      <td>great video musician but s not my musician lol...</td>\n",
       "      <td>1</td>\n",
       "    </tr>\n",
       "    <tr>\n",
       "      <th>726117</th>\n",
       "      <td>not great pop video yeah he s not a pedophile ...</td>\n",
       "      <td>1</td>\n",
       "    </tr>\n",
       "    <tr>\n",
       "      <th>726118</th>\n",
       "      <td>great video yeah he s non a paedophile lolllll...</td>\n",
       "      <td>1</td>\n",
       "    </tr>\n",
       "  </tbody>\n",
       "</table>\n",
       "<p>442179 rows × 2 columns</p>\n",
       "</div>"
      ],
      "text/plain": [
       "                                                  content  label\n",
       "0       denial of normal the con be asked to comment o...      1\n",
       "1       just by being able to tweet this insufferable ...      1\n",
       "2       that is retarded you too cute to be single tha...      1\n",
       "3       thought of a real badass mongol style declarat...      1\n",
       "7       the dead what a slut still warm when she tweet...      1\n",
       "...                                                   ...    ...\n",
       "726094  oh haha real funny give maine chills ms twilig...      1\n",
       "726115  but hell yeah he s not a bachelor but looooooo...      1\n",
       "726116  great video musician but s not my musician lol...      1\n",
       "726117  not great pop video yeah he s not a pedophile ...      1\n",
       "726118  great video yeah he s non a paedophile lolllll...      1\n",
       "\n",
       "[442179 rows x 2 columns]"
      ]
     },
     "execution_count": 32,
     "metadata": {},
     "output_type": "execute_result"
    }
   ],
   "source": [
    "invalid_record = []\n",
    "for index, row in comments.iterrows():\n",
    "    content = row['content']\n",
    "    number_of_words = len(word_tokenize(content))\n",
    "    if number_of_words <= 10 or number_of_words >= 60:\n",
    "        invalid_record.append(index)\n",
    "comments.drop(invalid_record, inplace=True)\n",
    "comments"
   ]
  },
  {
   "cell_type": "markdown",
   "id": "3c9a8406",
   "metadata": {},
   "source": [
    "<h3>Sample 20000 comments at a 4:1 (non-hate:hate) ratio</h3>"
   ]
  },
  {
   "cell_type": "code",
   "execution_count": 33,
   "id": "ea49f191",
   "metadata": {},
   "outputs": [
    {
     "name": "stdout",
     "output_type": "stream",
     "text": [
      "(20000, 2)\n"
     ]
    },
    {
     "data": {
      "text/html": [
       "<div>\n",
       "<style scoped>\n",
       "    .dataframe tbody tr th:only-of-type {\n",
       "        vertical-align: middle;\n",
       "    }\n",
       "\n",
       "    .dataframe tbody tr th {\n",
       "        vertical-align: top;\n",
       "    }\n",
       "\n",
       "    .dataframe thead th {\n",
       "        text-align: right;\n",
       "    }\n",
       "</style>\n",
       "<table border=\"1\" class=\"dataframe\">\n",
       "  <thead>\n",
       "    <tr style=\"text-align: right;\">\n",
       "      <th></th>\n",
       "      <th>content</th>\n",
       "      <th>label</th>\n",
       "    </tr>\n",
       "  </thead>\n",
       "  <tbody>\n",
       "    <tr>\n",
       "      <th>0</th>\n",
       "      <td>the future the female average yr old oh um wom...</td>\n",
       "      <td>1</td>\n",
       "    </tr>\n",
       "    <tr>\n",
       "      <th>1</th>\n",
       "      <td>possible tatar relation it seems to me there b...</td>\n",
       "      <td>0</td>\n",
       "    </tr>\n",
       "    <tr>\n",
       "      <th>2</th>\n",
       "      <td>somehow i doubt that statistic you just made u...</td>\n",
       "      <td>0</td>\n",
       "    </tr>\n",
       "    <tr>\n",
       "      <th>3</th>\n",
       "      <td>you guys need to stop with the gay martins arg...</td>\n",
       "      <td>0</td>\n",
       "    </tr>\n",
       "    <tr>\n",
       "      <th>4</th>\n",
       "      <td>whatever need to get hold of everyone and plan...</td>\n",
       "      <td>0</td>\n",
       "    </tr>\n",
       "    <tr>\n",
       "      <th>...</th>\n",
       "      <td>...</td>\n",
       "      <td>...</td>\n",
       "    </tr>\n",
       "    <tr>\n",
       "      <th>19995</th>\n",
       "      <td>why plenty of people have taken a stance in fa...</td>\n",
       "      <td>0</td>\n",
       "    </tr>\n",
       "    <tr>\n",
       "      <th>19996</th>\n",
       "      <td>bitches be mad they mane nigga getting snatche...</td>\n",
       "      <td>0</td>\n",
       "    </tr>\n",
       "    <tr>\n",
       "      <th>19997</th>\n",
       "      <td>done and for this is would even a name be know...</td>\n",
       "      <td>0</td>\n",
       "    </tr>\n",
       "    <tr>\n",
       "      <th>19998</th>\n",
       "      <td>chicago s a killing field from decades of inep...</td>\n",
       "      <td>0</td>\n",
       "    </tr>\n",
       "    <tr>\n",
       "      <th>19999</th>\n",
       "      <td>boze secular u soda lo retire tu aida bud za i...</td>\n",
       "      <td>1</td>\n",
       "    </tr>\n",
       "  </tbody>\n",
       "</table>\n",
       "<p>20000 rows × 2 columns</p>\n",
       "</div>"
      ],
      "text/plain": [
       "                                                 content  label\n",
       "0      the future the female average yr old oh um wom...      1\n",
       "1      possible tatar relation it seems to me there b...      0\n",
       "2      somehow i doubt that statistic you just made u...      0\n",
       "3      you guys need to stop with the gay martins arg...      0\n",
       "4      whatever need to get hold of everyone and plan...      0\n",
       "...                                                  ...    ...\n",
       "19995  why plenty of people have taken a stance in fa...      0\n",
       "19996  bitches be mad they mane nigga getting snatche...      0\n",
       "19997  done and for this is would even a name be know...      0\n",
       "19998  chicago s a killing field from decades of inep...      0\n",
       "19999  boze secular u soda lo retire tu aida bud za i...      1\n",
       "\n",
       "[20000 rows x 2 columns]"
      ]
     },
     "execution_count": 33,
     "metadata": {},
     "output_type": "execute_result"
    }
   ],
   "source": [
    "comments_0 = comments.query('label == 0').sample(16000, random_state=6)\n",
    "comments_1 = comments.query('label == 1').sample(4000, random_state=6)\n",
    "comments = pd.concat([comments_0, comments_1], ignore_index=True)\n",
    "comments = comments.sample(frac=1,random_state=6).reset_index(drop=True)\n",
    "\n",
    "print(comments.shape)\n",
    "comments"
   ]
  },
  {
   "cell_type": "markdown",
   "id": "e7cf8c4e",
   "metadata": {},
   "source": [
    "<h3>Save file for pre-trained model</h3>"
   ]
  },
  {
   "cell_type": "code",
   "execution_count": 34,
   "id": "e3546042",
   "metadata": {},
   "outputs": [],
   "source": [
    "comments.to_csv(\"CommentsForPretrainedGPT.csv\", index=False)"
   ]
  },
  {
   "cell_type": "markdown",
   "id": "79ad9f1a",
   "metadata": {},
   "source": [
    "<h3>Clean the corpus</h3>"
   ]
  },
  {
   "cell_type": "code",
   "execution_count": 35,
   "id": "90db08ac",
   "metadata": {
    "scrolled": true
   },
   "outputs": [
    {
     "data": {
      "text/html": [
       "<div>\n",
       "<style scoped>\n",
       "    .dataframe tbody tr th:only-of-type {\n",
       "        vertical-align: middle;\n",
       "    }\n",
       "\n",
       "    .dataframe tbody tr th {\n",
       "        vertical-align: top;\n",
       "    }\n",
       "\n",
       "    .dataframe thead th {\n",
       "        text-align: right;\n",
       "    }\n",
       "</style>\n",
       "<table border=\"1\" class=\"dataframe\">\n",
       "  <thead>\n",
       "    <tr style=\"text-align: right;\">\n",
       "      <th></th>\n",
       "      <th>content</th>\n",
       "      <th>label</th>\n",
       "    </tr>\n",
       "  </thead>\n",
       "  <tbody>\n",
       "    <tr>\n",
       "      <th>0</th>\n",
       "      <td>future female average yr old oh um women knock...</td>\n",
       "      <td>1</td>\n",
       "    </tr>\n",
       "    <tr>\n",
       "      <th>1</th>\n",
       "      <td>possible tatar relation seems minor connection...</td>\n",
       "      <td>0</td>\n",
       "    </tr>\n",
       "    <tr>\n",
       "      <th>2</th>\n",
       "      <td>somehow doubt statistic made head</td>\n",
       "      <td>0</td>\n",
       "    </tr>\n",
       "    <tr>\n",
       "      <th>3</th>\n",
       "      <td>guys need stop gay martins argent godaddy ads ...</td>\n",
       "      <td>0</td>\n",
       "    </tr>\n",
       "    <tr>\n",
       "      <th>4</th>\n",
       "      <td>whatever need get hold everyone plan something...</td>\n",
       "      <td>0</td>\n",
       "    </tr>\n",
       "    <tr>\n",
       "      <th>...</th>\n",
       "      <td>...</td>\n",
       "      <td>...</td>\n",
       "    </tr>\n",
       "    <tr>\n",
       "      <th>19995</th>\n",
       "      <td>plenty people taken stance favor common sense ...</td>\n",
       "      <td>0</td>\n",
       "    </tr>\n",
       "    <tr>\n",
       "      <th>19996</th>\n",
       "      <td>bitches mad mane nigga getting snatched whore ...</td>\n",
       "      <td>0</td>\n",
       "    </tr>\n",
       "    <tr>\n",
       "      <th>19997</th>\n",
       "      <td>done would even name known</td>\n",
       "      <td>0</td>\n",
       "    </tr>\n",
       "    <tr>\n",
       "      <th>19998</th>\n",
       "      <td>chicago killing field decades inept corrupt li...</td>\n",
       "      <td>0</td>\n",
       "    </tr>\n",
       "    <tr>\n",
       "      <th>19999</th>\n",
       "      <td>boze secular u soda lo retire tu aida bud za i...</td>\n",
       "      <td>1</td>\n",
       "    </tr>\n",
       "  </tbody>\n",
       "</table>\n",
       "<p>20000 rows × 2 columns</p>\n",
       "</div>"
      ],
      "text/plain": [
       "                                                 content  label\n",
       "0      future female average yr old oh um women knock...      1\n",
       "1      possible tatar relation seems minor connection...      0\n",
       "2                      somehow doubt statistic made head      0\n",
       "3      guys need stop gay martins argent godaddy ads ...      0\n",
       "4      whatever need get hold everyone plan something...      0\n",
       "...                                                  ...    ...\n",
       "19995  plenty people taken stance favor common sense ...      0\n",
       "19996  bitches mad mane nigga getting snatched whore ...      0\n",
       "19997                         done would even name known      0\n",
       "19998  chicago killing field decades inept corrupt li...      0\n",
       "19999  boze secular u soda lo retire tu aida bud za i...      1\n",
       "\n",
       "[20000 rows x 2 columns]"
      ]
     },
     "execution_count": 35,
     "metadata": {},
     "output_type": "execute_result"
    }
   ],
   "source": [
    "for index, row in comments.iterrows():\n",
    "    comments.loc[index,'content'] = clean_text(comments.loc[index,'content'])\n",
    "comments"
   ]
  },
  {
   "cell_type": "markdown",
   "id": "d7da2334",
   "metadata": {},
   "source": [
    "<h3>Save cleaned dataset to file</h3>"
   ]
  },
  {
   "cell_type": "code",
   "execution_count": 36,
   "id": "ef3d7903",
   "metadata": {},
   "outputs": [],
   "source": [
    "comments.to_csv(\"CommentsCleaned.csv\", index=False)"
   ]
  }
 ],
 "metadata": {
  "kernelspec": {
   "display_name": "Python 3 (ipykernel)",
   "language": "python",
   "name": "python3"
  },
  "language_info": {
   "codemirror_mode": {
    "name": "ipython",
    "version": 3
   },
   "file_extension": ".py",
   "mimetype": "text/x-python",
   "name": "python",
   "nbconvert_exporter": "python",
   "pygments_lexer": "ipython3",
   "version": "3.8.15"
  }
 },
 "nbformat": 4,
 "nbformat_minor": 5
}
