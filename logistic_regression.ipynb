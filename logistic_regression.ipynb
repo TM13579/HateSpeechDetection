{
 "cells": [
  {
   "cell_type": "code",
   "execution_count": 7,
   "id": "64e7f88a",
   "metadata": {},
   "outputs": [],
   "source": [
    "import pandas as pd\n",
    "import numpy as np\n",
    "\n",
    "from sklearn.linear_model import LogisticRegression \n",
    "from sklearn.model_selection import train_test_split\n",
    "from sklearn.feature_extraction.text import TfidfVectorizer\n",
    "\n",
    "from sklearn.metrics import precision_score\n",
    "from sklearn.metrics import accuracy_score\n",
    "from sklearn.metrics import recall_score\n",
    "from sklearn.metrics import f1_score"
   ]
  },
  {
   "cell_type": "markdown",
   "id": "2d963aac",
   "metadata": {},
   "source": [
    "<h3>Read the dataset</h3>"
   ]
  },
  {
   "cell_type": "code",
   "execution_count": 8,
   "id": "7f463b3b",
   "metadata": {},
   "outputs": [
    {
     "data": {
      "text/html": [
       "<div>\n",
       "<style scoped>\n",
       "    .dataframe tbody tr th:only-of-type {\n",
       "        vertical-align: middle;\n",
       "    }\n",
       "\n",
       "    .dataframe tbody tr th {\n",
       "        vertical-align: top;\n",
       "    }\n",
       "\n",
       "    .dataframe thead th {\n",
       "        text-align: right;\n",
       "    }\n",
       "</style>\n",
       "<table border=\"1\" class=\"dataframe\">\n",
       "  <thead>\n",
       "    <tr style=\"text-align: right;\">\n",
       "      <th></th>\n",
       "      <th>content</th>\n",
       "      <th>label</th>\n",
       "    </tr>\n",
       "  </thead>\n",
       "  <tbody>\n",
       "    <tr>\n",
       "      <th>0</th>\n",
       "      <td>future female average yr old oh um women knock...</td>\n",
       "      <td>1</td>\n",
       "    </tr>\n",
       "    <tr>\n",
       "      <th>1</th>\n",
       "      <td>possible tatar relation seems minor connection...</td>\n",
       "      <td>0</td>\n",
       "    </tr>\n",
       "    <tr>\n",
       "      <th>2</th>\n",
       "      <td>somehow doubt statistic made head</td>\n",
       "      <td>0</td>\n",
       "    </tr>\n",
       "    <tr>\n",
       "      <th>3</th>\n",
       "      <td>guys need stop gay martins argent godaddy ads ...</td>\n",
       "      <td>0</td>\n",
       "    </tr>\n",
       "    <tr>\n",
       "      <th>4</th>\n",
       "      <td>whatever need get hold everyone plan something...</td>\n",
       "      <td>0</td>\n",
       "    </tr>\n",
       "    <tr>\n",
       "      <th>...</th>\n",
       "      <td>...</td>\n",
       "      <td>...</td>\n",
       "    </tr>\n",
       "    <tr>\n",
       "      <th>19995</th>\n",
       "      <td>plenty people taken stance favor common sense ...</td>\n",
       "      <td>0</td>\n",
       "    </tr>\n",
       "    <tr>\n",
       "      <th>19996</th>\n",
       "      <td>bitches mad mane nigga getting snatched whore ...</td>\n",
       "      <td>0</td>\n",
       "    </tr>\n",
       "    <tr>\n",
       "      <th>19997</th>\n",
       "      <td>done would even name known</td>\n",
       "      <td>0</td>\n",
       "    </tr>\n",
       "    <tr>\n",
       "      <th>19998</th>\n",
       "      <td>chicago killing field decades inept corrupt li...</td>\n",
       "      <td>0</td>\n",
       "    </tr>\n",
       "    <tr>\n",
       "      <th>19999</th>\n",
       "      <td>boze secular u soda lo retire tu aida bud za i...</td>\n",
       "      <td>1</td>\n",
       "    </tr>\n",
       "  </tbody>\n",
       "</table>\n",
       "<p>20000 rows × 2 columns</p>\n",
       "</div>"
      ],
      "text/plain": [
       "                                                 content  label\n",
       "0      future female average yr old oh um women knock...      1\n",
       "1      possible tatar relation seems minor connection...      0\n",
       "2                      somehow doubt statistic made head      0\n",
       "3      guys need stop gay martins argent godaddy ads ...      0\n",
       "4      whatever need get hold everyone plan something...      0\n",
       "...                                                  ...    ...\n",
       "19995  plenty people taken stance favor common sense ...      0\n",
       "19996  bitches mad mane nigga getting snatched whore ...      0\n",
       "19997                         done would even name known      0\n",
       "19998  chicago killing field decades inept corrupt li...      0\n",
       "19999  boze secular u soda lo retire tu aida bud za i...      1\n",
       "\n",
       "[20000 rows x 2 columns]"
      ]
     },
     "execution_count": 8,
     "metadata": {},
     "output_type": "execute_result"
    }
   ],
   "source": [
    "comments = pd.read_csv(\"/Users/mazichang/Desktop/Cyberviolence/Project/CommentsCleaned.csv\")\n",
    "comments"
   ]
  },
  {
   "cell_type": "markdown",
   "id": "0b45265e",
   "metadata": {},
   "source": [
    "<h3>Split dataset into train, validation, test</h3>"
   ]
  },
  {
   "cell_type": "code",
   "execution_count": 9,
   "id": "c0023ccd",
   "metadata": {},
   "outputs": [],
   "source": [
    "train, test = train_test_split(comments, test_size=0.1, random_state=31)\n",
    "train, val = train_test_split(train, test_size=0.11111111, random_state=31)\n",
    "# Ratio 8:1:1\n",
    "\n",
    "training_features_range = train[\"content\"].fillna('0')\n",
    "training_labels_range = train[\"label\"]\n",
    "val_features_range = val[\"content\"].fillna('0')\n",
    "val_labels_range = val[\"label\"]\n",
    "testing_features_range = test[\"content\"].fillna('0')\n",
    "testing_labels_range = test[\"label\"]"
   ]
  },
  {
   "cell_type": "markdown",
   "id": "75876fca",
   "metadata": {},
   "source": [
    "<h3>Train and fine tune logistic regression model</h3>"
   ]
  },
  {
   "cell_type": "code",
   "execution_count": 10,
   "id": "6dbca483",
   "metadata": {
    "scrolled": true
   },
   "outputs": [
    {
     "name": "stdout",
     "output_type": "stream",
     "text": [
      "(1, 1) 0.600418410041841\n",
      "(1, 2) 0.5816649104320338\n",
      "(2, 2) 0.37789661319073087\n",
      "(1, 3) 0.5798319327731093\n",
      "(2, 3) 0.3198458574181117\n",
      "(3, 3) 0.12380952380952381\n"
     ]
    }
   ],
   "source": [
    "# Try different n_grams combination\n",
    "n_grams = [(1,1),(1,2),(2,2),(1,3),(2,3),(3,3)]\n",
    "\n",
    "for n_gram in n_grams:\n",
    "    \n",
    "    # Use tf_idf to vectorize dataset\n",
    "    tfidf_vectorizer = TfidfVectorizer(lowercase=True, ngram_range=n_gram)\n",
    "    training_features = tfidf_vectorizer.fit_transform(training_features_range)\n",
    "    val_features = tfidf_vectorizer.transform(val_features_range)\n",
    "\n",
    "    classifier = LogisticRegression(class_weight='balanced')\n",
    "    classifier.fit(training_features, training_labels_range)\n",
    "\n",
    "    predicted_probs = classifier.predict_proba(val_features)\n",
    "    predicted_labels = []\n",
    "    for i in range(0, len(predicted_probs)):\n",
    "        predicted_prob_no = predicted_probs[i][0]\n",
    "        if predicted_prob_no <= 0.5:\n",
    "            predicted_labels.append(1)\n",
    "        else:\n",
    "            predicted_labels.append(0)\n",
    "\n",
    "    # Evaluate based on f1 score        \n",
    "    f1 = f1_score(val_labels_range, predicted_labels)\n",
    "    print(n_gram, f1)\n",
    "    # Unigram is the best"
   ]
  },
  {
   "cell_type": "code",
   "execution_count": 11,
   "id": "a4481b2e",
   "metadata": {},
   "outputs": [
    {
     "name": "stdout",
     "output_type": "stream",
     "text": [
      "0.0 0.0\n",
      "0.1 0.11707317073170731\n",
      "0.2 0.3219315895372234\n",
      "0.3 0.495176848874598\n",
      "0.4 0.5814863102998695\n",
      "0.5 0.600418410041841\n",
      "0.6 0.5665818490245972\n",
      "0.7 0.4903047091412742\n",
      "0.8 0.41765704584040747\n",
      "0.9 0.3546099290780142\n"
     ]
    }
   ],
   "source": [
    "tfidf_vectorizer = TfidfVectorizer(lowercase=True, ngram_range=(1,1))\n",
    "training_features = tfidf_vectorizer.fit_transform(training_features_range)\n",
    "val_features = tfidf_vectorizer.transform(val_features_range)\n",
    "\n",
    "classifier.fit(training_features, training_labels_range)\n",
    "\n",
    "predicted_probs = classifier.predict_proba(val_features)\n",
    "\n",
    "for threshold in range (10):\n",
    "    predicted_labels = []\n",
    "    threshold = threshold/10\n",
    "    for i in range(0, len(predicted_probs)):\n",
    "        predicted_prob_no = predicted_probs[i][0]\n",
    "        if predicted_prob_no <= threshold:\n",
    "            predicted_labels.append(1)\n",
    "        else:\n",
    "            predicted_labels.append(0)\n",
    "\n",
    "    # Evaluate based on f1 score        \n",
    "    f1 = f1_score(val_labels_range, predicted_labels)\n",
    "    print(threshold, f1)"
   ]
  },
  {
   "cell_type": "markdown",
   "id": "3c1caea1",
   "metadata": {},
   "source": [
    "<h3>Predict using logistic regression model</h3>"
   ]
  },
  {
   "cell_type": "code",
   "execution_count": 12,
   "id": "d3a03dfb",
   "metadata": {},
   "outputs": [
    {
     "name": "stdout",
     "output_type": "stream",
     "text": [
      "Accuracy 0.8075\n",
      "Recall 0.7223529411764706\n",
      "Precision 0.5348432055749129\n",
      "F1 0.6146146146146148\n"
     ]
    }
   ],
   "source": [
    "testing_features = tfidf_vectorizer.transform(testing_features_range)\n",
    "predicted_probs = classifier.predict_proba(testing_features)\n",
    "predicted_labels = []\n",
    "for i in range(0, len(predicted_probs)):\n",
    "    predicted_prob_no = predicted_probs[i][0]\n",
    "    if predicted_prob_no <= 0.5:\n",
    "        predicted_labels.append(1)\n",
    "    else:\n",
    "        predicted_labels.append(0)\n",
    "    \n",
    "accuracy = accuracy_score(testing_labels_range, predicted_labels)\n",
    "recall = recall_score(testing_labels_range, predicted_labels)\n",
    "precision = precision_score(testing_labels_range, predicted_labels)\n",
    "f1 = f1_score(testing_labels_range, predicted_labels)\n",
    "print(\"Accuracy\", accuracy)\n",
    "print(\"Recall\", recall)\n",
    "print(\"Precision\", precision)\n",
    "print(\"F1\", f1)"
   ]
  },
  {
   "cell_type": "code",
   "execution_count": null,
   "id": "0d5d7429",
   "metadata": {},
   "outputs": [],
   "source": []
  },
  {
   "cell_type": "code",
   "execution_count": null,
   "id": "0b1660eb",
   "metadata": {},
   "outputs": [],
   "source": []
  }
 ],
 "metadata": {
  "kernelspec": {
   "display_name": "Python 3 (ipykernel)",
   "language": "python",
   "name": "python3"
  },
  "language_info": {
   "codemirror_mode": {
    "name": "ipython",
    "version": 3
   },
   "file_extension": ".py",
   "mimetype": "text/x-python",
   "name": "python",
   "nbconvert_exporter": "python",
   "pygments_lexer": "ipython3",
   "version": "3.8.15"
  }
 },
 "nbformat": 4,
 "nbformat_minor": 5
}
