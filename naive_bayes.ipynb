{
 "cells": [
  {
   "cell_type": "code",
   "execution_count": 6,
   "id": "64e7f88a",
   "metadata": {},
   "outputs": [],
   "source": [
    "import pandas as pd\n",
    "import numpy as np\n",
    "\n",
    "from sklearn.naive_bayes import MultinomialNB  \n",
    "from sklearn.model_selection import train_test_split\n",
    "from sklearn.feature_extraction.text import CountVectorizer\n",
    "\n",
    "from sklearn.metrics import precision_score\n",
    "from sklearn.metrics import accuracy_score\n",
    "from sklearn.metrics import recall_score\n",
    "from sklearn.metrics import f1_score"
   ]
  },
  {
   "cell_type": "markdown",
   "id": "2d963aac",
   "metadata": {},
   "source": [
    "<h3>Read the dataset</h3>"
   ]
  },
  {
   "cell_type": "code",
   "execution_count": 7,
   "id": "7f463b3b",
   "metadata": {},
   "outputs": [
    {
     "data": {
      "text/html": [
       "<div>\n",
       "<style scoped>\n",
       "    .dataframe tbody tr th:only-of-type {\n",
       "        vertical-align: middle;\n",
       "    }\n",
       "\n",
       "    .dataframe tbody tr th {\n",
       "        vertical-align: top;\n",
       "    }\n",
       "\n",
       "    .dataframe thead th {\n",
       "        text-align: right;\n",
       "    }\n",
       "</style>\n",
       "<table border=\"1\" class=\"dataframe\">\n",
       "  <thead>\n",
       "    <tr style=\"text-align: right;\">\n",
       "      <th></th>\n",
       "      <th>content</th>\n",
       "      <th>label</th>\n",
       "    </tr>\n",
       "  </thead>\n",
       "  <tbody>\n",
       "    <tr>\n",
       "      <th>0</th>\n",
       "      <td>future female average yr old oh um women knock...</td>\n",
       "      <td>1</td>\n",
       "    </tr>\n",
       "    <tr>\n",
       "      <th>1</th>\n",
       "      <td>possible tatar relation seems minor connection...</td>\n",
       "      <td>0</td>\n",
       "    </tr>\n",
       "    <tr>\n",
       "      <th>2</th>\n",
       "      <td>somehow doubt statistic made head</td>\n",
       "      <td>0</td>\n",
       "    </tr>\n",
       "    <tr>\n",
       "      <th>3</th>\n",
       "      <td>guys need stop gay martins argent godaddy ads ...</td>\n",
       "      <td>0</td>\n",
       "    </tr>\n",
       "    <tr>\n",
       "      <th>4</th>\n",
       "      <td>whatever need get hold everyone plan something...</td>\n",
       "      <td>0</td>\n",
       "    </tr>\n",
       "    <tr>\n",
       "      <th>...</th>\n",
       "      <td>...</td>\n",
       "      <td>...</td>\n",
       "    </tr>\n",
       "    <tr>\n",
       "      <th>19995</th>\n",
       "      <td>plenty people taken stance favor common sense ...</td>\n",
       "      <td>0</td>\n",
       "    </tr>\n",
       "    <tr>\n",
       "      <th>19996</th>\n",
       "      <td>bitches mad mane nigga getting snatched whore ...</td>\n",
       "      <td>0</td>\n",
       "    </tr>\n",
       "    <tr>\n",
       "      <th>19997</th>\n",
       "      <td>done would even name known</td>\n",
       "      <td>0</td>\n",
       "    </tr>\n",
       "    <tr>\n",
       "      <th>19998</th>\n",
       "      <td>chicago killing field decades inept corrupt li...</td>\n",
       "      <td>0</td>\n",
       "    </tr>\n",
       "    <tr>\n",
       "      <th>19999</th>\n",
       "      <td>boze secular u soda lo retire tu aida bud za i...</td>\n",
       "      <td>1</td>\n",
       "    </tr>\n",
       "  </tbody>\n",
       "</table>\n",
       "<p>20000 rows × 2 columns</p>\n",
       "</div>"
      ],
      "text/plain": [
       "                                                 content  label\n",
       "0      future female average yr old oh um women knock...      1\n",
       "1      possible tatar relation seems minor connection...      0\n",
       "2                      somehow doubt statistic made head      0\n",
       "3      guys need stop gay martins argent godaddy ads ...      0\n",
       "4      whatever need get hold everyone plan something...      0\n",
       "...                                                  ...    ...\n",
       "19995  plenty people taken stance favor common sense ...      0\n",
       "19996  bitches mad mane nigga getting snatched whore ...      0\n",
       "19997                         done would even name known      0\n",
       "19998  chicago killing field decades inept corrupt li...      0\n",
       "19999  boze secular u soda lo retire tu aida bud za i...      1\n",
       "\n",
       "[20000 rows x 2 columns]"
      ]
     },
     "execution_count": 7,
     "metadata": {},
     "output_type": "execute_result"
    }
   ],
   "source": [
    "comments = pd.read_csv(\"/Users/mazichang/Desktop/Cyberviolence/Project/CommentsCleaned.csv\")\n",
    "comments"
   ]
  },
  {
   "cell_type": "markdown",
   "id": "0b45265e",
   "metadata": {},
   "source": [
    "<h3>Split dataset into train, validation, test</h3>"
   ]
  },
  {
   "cell_type": "code",
   "execution_count": 8,
   "id": "c0023ccd",
   "metadata": {},
   "outputs": [],
   "source": [
    "train, test = train_test_split(comments, test_size=0.1, random_state=31)\n",
    "train, val = train_test_split(train, test_size=0.11111111, random_state=31)\n",
    "# Ratio 8:1:1\n",
    "\n",
    "training_features_range = train[\"content\"].fillna('0')\n",
    "training_labels_range = train[\"label\"]\n",
    "val_features_range = val[\"content\"].fillna('0')\n",
    "val_labels_range = val[\"label\"]\n",
    "testing_features_range = test[\"content\"].fillna('0')\n",
    "testing_labels_range = test[\"label\"]"
   ]
  },
  {
   "cell_type": "markdown",
   "id": "75876fca",
   "metadata": {},
   "source": [
    "<h3>Train and fine tune naive bayes model</h3>"
   ]
  },
  {
   "cell_type": "code",
   "execution_count": 9,
   "id": "6dbca483",
   "metadata": {
    "scrolled": true
   },
   "outputs": [
    {
     "name": "stdout",
     "output_type": "stream",
     "text": [
      "(1, 1) 0.5342281879194631\n",
      "(1, 2) 0.33268101761252444\n",
      "(2, 2) 0.32936507936507936\n",
      "(1, 3) 0.2652631578947368\n",
      "(2, 3) 0.32612966601178783\n",
      "(3, 3) 0.10144927536231885\n"
     ]
    }
   ],
   "source": [
    "# Try different n_grams combination\n",
    "n_grams = [(1,1),(1,2),(2,2),(1,3),(2,3),(3,3)]\n",
    "\n",
    "for n_gram in n_grams:\n",
    "\n",
    "    count_vectorizer = CountVectorizer(lowercase=True, ngram_range=n_gram)\n",
    "    training_features = count_vectorizer.fit_transform(training_features_range)\n",
    "    val_features = count_vectorizer.transform(val_features_range)\n",
    "\n",
    "    classifier = MultinomialNB()\n",
    "    classifier.fit(training_features, training_labels_range)\n",
    "    predicted_labels = classifier.predict(val_features)\n",
    "\n",
    "    # Evaluate based on f1 score        \n",
    "    f1 = f1_score(val_labels_range, predicted_labels)\n",
    "    print(n_gram, f1)\n",
    "    # Unigram is the best"
   ]
  },
  {
   "cell_type": "markdown",
   "id": "1f52b36a",
   "metadata": {},
   "source": [
    "<h3>Predict using naive bayes model</h3>"
   ]
  },
  {
   "cell_type": "code",
   "execution_count": 10,
   "id": "484e9bdb",
   "metadata": {},
   "outputs": [
    {
     "name": "stdout",
     "output_type": "stream",
     "text": [
      "Accuracy 0.822\n",
      "Recall 0.48\n",
      "Precision 0.6017699115044248\n",
      "F1 0.5340314136125655\n"
     ]
    }
   ],
   "source": [
    "count_vectorizer = CountVectorizer(lowercase=True, ngram_range=(1,1))\n",
    "training_features = count_vectorizer.fit_transform(training_features_range)\n",
    "\n",
    "classifier.fit(training_features, training_labels_range)\n",
    "testing_features = count_vectorizer.transform(testing_features_range)\n",
    "predicted_labels = classifier.predict(testing_features)\n",
    "\n",
    "accuracy = accuracy_score(testing_labels_range, predicted_labels)\n",
    "recall = recall_score(testing_labels_range, predicted_labels)\n",
    "precision = precision_score(testing_labels_range, predicted_labels)\n",
    "f1 = f1_score(testing_labels_range, predicted_labels)\n",
    "print(\"Accuracy\", accuracy)\n",
    "print(\"Recall\", recall)\n",
    "print(\"Precision\", precision)\n",
    "print(\"F1\", f1)"
   ]
  },
  {
   "cell_type": "code",
   "execution_count": null,
   "id": "2f8cfcb3",
   "metadata": {},
   "outputs": [],
   "source": []
  }
 ],
 "metadata": {
  "kernelspec": {
   "display_name": "Python 3 (ipykernel)",
   "language": "python",
   "name": "python3"
  },
  "language_info": {
   "codemirror_mode": {
    "name": "ipython",
    "version": 3
   },
   "file_extension": ".py",
   "mimetype": "text/x-python",
   "name": "python",
   "nbconvert_exporter": "python",
   "pygments_lexer": "ipython3",
   "version": "3.8.15"
  }
 },
 "nbformat": 4,
 "nbformat_minor": 5
}
