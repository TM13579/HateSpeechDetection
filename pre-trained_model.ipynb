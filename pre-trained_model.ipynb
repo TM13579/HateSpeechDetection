{
 "cells": [
  {
   "cell_type": "code",
   "execution_count": 1,
   "id": "f57b83e7",
   "metadata": {},
   "outputs": [],
   "source": [
    "from sklearn.metrics import accuracy_score, precision_score, recall_score, f1_score\n",
    "import pandas as pd\n",
    "from transformers import AutoTokenizer, AutoModelForSequenceClassification, EvalPrediction\n",
    "from sklearn.model_selection import train_test_split\n",
    "\n",
    "\n",
    "def get_prediction(test):\n",
    "    inputs = tokenizer(test, padding=\"max_length\", truncation=True, max_length=40, return_tensors=\"pt\")\n",
    "    outputs = model(**inputs)\n",
    "    probs = outputs[0].softmax(1).argmax()\n",
    "    return probs.numpy()"
   ]
  },
  {
   "cell_type": "markdown",
   "id": "ed9ff822",
   "metadata": {},
   "source": [
    "<h3>Import model and cleaned dataset</h3>"
   ]
  },
  {
   "cell_type": "code",
   "execution_count": 2,
   "id": "ecb70b95",
   "metadata": {},
   "outputs": [
    {
     "name": "stderr",
     "output_type": "stream",
     "text": [
      "/Users/mazichang/anaconda3/envs/Terry/lib/python3.8/site-packages/transformers/tokenization_utils_base.py:1601: FutureWarning: `clean_up_tokenization_spaces` was not set. It will be set to `True` by default. This behavior will be depracted in transformers v4.45, and will be then set to `False` by default. For more details check this issue: https://github.com/huggingface/transformers/issues/31884\n",
      "  warnings.warn(\n"
     ]
    }
   ],
   "source": [
    "tokenizer = AutoTokenizer.from_pretrained(\"facebook/roberta-hate-speech-dynabench-r4-target\")\n",
    "model = AutoModelForSequenceClassification.from_pretrained(\"facebook/roberta-hate-speech-dynabench-r4-target\", num_labels=2)\n",
    "comments = pd.read_csv(\"/Users/mazichang/Desktop/Cyberviolence/Project/CommentsForPretrained.csv\") "
   ]
  },
  {
   "cell_type": "markdown",
   "id": "889fd611",
   "metadata": {},
   "source": [
    "<h3>Predict using pretrained RoBERTa</h3>"
   ]
  },
  {
   "cell_type": "code",
   "execution_count": null,
   "id": "e14d0862",
   "metadata": {},
   "outputs": [],
   "source": [
    "train, test = train_test_split(comments, test_size=0.1, random_state=31)\n",
    "\n",
    "result = test.copy()\n",
    "result['label'] = test['content'].apply(get_prediction)"
   ]
  },
  {
   "cell_type": "code",
   "execution_count": 3,
   "id": "a584a012",
   "metadata": {
    "scrolled": true
   },
   "outputs": [
    {
     "name": "stdout",
     "output_type": "stream",
     "text": [
      "Accuracy 0.754\n",
      "Recall 0.4316546762589928\n",
      "Precision 0.5769230769230769\n",
      "f1 0.49382716049382713\n"
     ]
    }
   ],
   "source": [
    "accuracy = accuracy_score(result['label'], test['label'])\n",
    "recall = recall_score(result['label'], test['label'])\n",
    "precision = precision_score(result['label'], test['label'])\n",
    "f1 = f1_score(result['label'], test['label'])\n",
    "print(\"Accuracy\", accuracy)\n",
    "print(\"Recall\", recall)\n",
    "print(\"Precision\", precision)\n",
    "print(\"f1\", f1)"
   ]
  }
 ],
 "metadata": {
  "kernelspec": {
   "display_name": "Python 3 (ipykernel)",
   "language": "python",
   "name": "python3"
  },
  "language_info": {
   "codemirror_mode": {
    "name": "ipython",
    "version": 3
   },
   "file_extension": ".py",
   "mimetype": "text/x-python",
   "name": "python",
   "nbconvert_exporter": "python",
   "pygments_lexer": "ipython3",
   "version": "3.8.15"
  }
 },
 "nbformat": 4,
 "nbformat_minor": 5
}
